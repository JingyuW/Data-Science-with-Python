{
 "cells": [
  {
   "cell_type": "markdown",
   "metadata": {},
   "source": [
    "# Exploratory Data Analysis (EDA)\n",
    "\n",
    "02/06/2021\n",
    "\n",
    "\n",
    "Preliminary step in data analysis to:\n",
    "\n",
    " - summarize main characteristics of the data\n",
    " - gain better understanding of the data set\n",
    " - uncover relationships between variables\n",
    " - extract important variables\n",
    " \n"
   ]
  },
  {
   "cell_type": "markdown",
   "metadata": {},
   "source": [
    "### Descriptive Statistics\n",
    "\n",
    "- summarize statistics using _pandas_ **describe()** method\n",
    "\n",
    " ```df.describe()```\n",
    " \n",
    " all NAN values will skip automatically for calculation\n",
    " \n",
    " \n",
    "- summarize the categorical data is by using the **value_counts()** method\n",
    "\n",
    " ```column_name_counts = df[\"column\"].value_counts().to_frame()```\n",
    " \n",
    " Box plots\n",
    " \n",
    " ```sns.boxplot(x=\"\", y = \"\", data = df)```\n",
    " \n",
    " Scatter plot\n",
    " \n",
    " ```x=df[\"\"]\n",
    " y = df[\"\"]\n",
    " plt.scatter(x,y)```"
   ]
  },
  {
   "cell_type": "markdown",
   "metadata": {},
   "source": [
    "### GroupBy in Python\n",
    "\n",
    "##### Grouping data:\n",
    "\n",
    "- use panda **dataframe.Groupby()** method:\n",
    "  - catrgorical variables\n",
    "  - group data into categories\n",
    "  - single or multiple cariables\n",
    "  \n",
    "  \n",
    "Examples: \n",
    "   ```column_name.groupby([''], as_index = false).mean()```\n",
    "   \n",
    "##### Pandas method - Pivot()\n",
    " - one variable displayes along the columns and the other varibale displayed along the rows\n",
    " \n",
    "##### Heatmap\n",
    " - plot target variable over multiple variables\n",
    " \n",
    "   ```plt.pcolor(df_[ovit, camp = 'RdBu')\n",
    "   plt.colorbar()\n",
    "   plt.show()```\n",
    "   "
   ]
  },
  {
   "cell_type": "markdown",
   "metadata": {},
   "source": [
    "### Correlation\n",
    "\n",
    "Corrlation does not mean cauzation. \n",
    "\n",
    "positive/ negative linear relationship\n",
    "\n",
    "**Pearson correslation**\n",
    "- measure the strength of the correlatino between two features\n",
    "  - correlation coefficient ($-1, 0, +1$)\n",
    "  - P-value\n",
    "  \n",
    "| P-value            |                                    |\n",
    "|:------------------:|:----------------------------------:| \n",
    "|<0.001              | **Strong** certainty in the reuslt |\n",
    "|<0.05               |**Moderate** certainty in the reuslt|\n",
    "|<0.1                |**Weak** certainty in the reuslt    |\n",
    "|>0.1                |**NO** certainty in the reuslt      |\n",
    "\n"
   ]
  },
  {
   "cell_type": "markdown",
   "metadata": {},
   "source": [
    " ### Association between two categorical variables: Chi-Square\n",
    " \n",
    " The test is intended to test how likely it is that an observed distribution is due to chance. \n",
    " \n",
    " Chi-square test for association:\n",
    " - H0: variables are indep.\n",
    " - chi-aquare does not tell you the type of relationship that exists between both variables; but only that a relationship exists.\n",
    " \n",
    " ```scipy.stats.chi2_contingency(con_table, correction = True) ```"
   ]
  },
  {
   "cell_type": "code",
   "execution_count": 1,
   "metadata": {},
   "outputs": [
    {
     "data": {
      "text/plain": [
       "2"
      ]
     },
     "execution_count": 1,
     "metadata": {},
     "output_type": "execute_result"
    }
   ],
   "source": [
    "1+1"
   ]
  },
  {
   "cell_type": "code",
   "execution_count": null,
   "metadata": {},
   "outputs": [],
   "source": []
  }
 ],
 "metadata": {
  "kernelspec": {
   "display_name": "Python 3",
   "language": "python",
   "name": "python3"
  },
  "language_info": {
   "codemirror_mode": {
    "name": "ipython",
    "version": 3
   },
   "file_extension": ".py",
   "mimetype": "text/x-python",
   "name": "python",
   "nbconvert_exporter": "python",
   "pygments_lexer": "ipython3",
   "version": "3.8.5"
  }
 },
 "nbformat": 4,
 "nbformat_minor": 4
}

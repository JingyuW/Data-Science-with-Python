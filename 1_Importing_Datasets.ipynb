{
 "cells": [
  {
   "cell_type": "markdown",
   "metadata": {},
   "source": [
    "# Importing Datasets\n",
    "---------------------------------------------\n",
    "\n",
    "## The problem\n",
    " - understand why data analysis\n",
    " - help answer questions from data\n",
    "\n",
    "\n",
    "## Understanding the Data\n",
    " - **CSV file**: sometimes the first row is header\n",
    " - **target (label)**: the name of the attribute what we want to predict\n",
    " \n",
    "\n",
    "## Python Pavkages for Data Science \n",
    " - **Scientifics computing** libraries: \n",
    "     - Pandas (data structures & tools)\n",
    "     - NumPy(Arrays& matrices)\n",
    "     - SciPy(Integrals, solving differential equations, optimization) \n",
    " - **Visualization** Libraries:\n",
    "     - Matplotlib(plots & graphs, most popular)\n",
    "     - Seaborn(plots: heat maps, time series, violin plots)\n",
    " - **Algorithmic** Libraries :\n",
    "     - Scikit-learn(Machine Learning: regression, classification,...)\n",
    "     - Statsmodels(Explore data, estimate statistical models and perform statistical tests.)\n",
    "     \n",
    "     \n",
    "## Importing and Exporting Data in Python \n",
    "  - Two properties:\n",
    "      - format\n",
    "      - file path of dataset\n",
    "      \n",
    "  - ```import pandas as pd```"
   ]
  },
  {
   "cell_type": "code",
   "execution_count": 3,
   "metadata": {},
   "outputs": [],
   "source": [
    "import pandas as pd\n",
    "# read the online file by the URL provided above, and assign it to variable \"df\"\n",
    "#path=\"https://archive.ics.uci.edu/ml/machine-learning-database/autos/imports-85.data\"\n",
    "\n",
    "#df = pd.read_csv(path,header=None) "
   ]
  },
  {
   "cell_type": "markdown",
   "metadata": {},
   "source": [
    "  - ```df.head(n)``` to show the first n rows of data frame\n",
    "  - ```df.tail(n)``` shows the bottom n rowa od data frame\n",
    "  \n",
    "  \n",
    "  - **Adding headers**: replace default header (by ```df.columns = heads```)\n",
    "  \n",
    "  \n",
    "  - expoting a panda dataframe to CSV\n",
    "  \n",
    "      ```path = \"c:/Windows/.../automobile.csv\"\n",
    "      df.to_csv(path)```\n",
    "       \n",
    "       \n",
    "  - Different formats in Python\n",
    "  \n",
    "    | data Format   | Read               |Save          |\n",
    "    |:-------------:|:------------------:|:-------------|\n",
    "    |csv            | pd.read_csv()      |df.to_csv()   |\n",
    "    |json           | pd.read_json()     |df.to_json()  |\n",
    "    |excel          | pd.read_excel()    |df.to_excel() |\n",
    "    |sql            | pd.read_sql()      |df.to_sql()   |\n",
    "    "
   ]
  },
  {
   "cell_type": "markdown",
   "metadata": {},
   "source": [
    "## Getting Started Analyzing Data in Python\n",
    "  - basic insights from the data: check **data type** and **data distribution**\n",
    "     - object, int64, float64, datetime64, timedelta[ns] \n",
    "     - ```df.types```\n",
    "     - ```df.describe()```: returns a statistical summary\n",
    "     - ```df.describe(inclued = \"all\")```: three more units (unique,top,freq)\n",
    "     - ```df.info()```provides a concise summary of your dataframe\n",
    "     "
   ]
  },
  {
   "cell_type": "markdown",
   "metadata": {},
   "source": [
    "## Accessing Databases with Python\n",
    " - connection method: \n",
    " \n",
    "   ```cursor()```\n",
    "   ```commit()```\n",
    "   ```rollback()```\n",
    "   ```close()```\n",
    "   \n",
    "  - writing code using DB-API"
   ]
  },
  {
   "cell_type": "code",
   "execution_count": null,
   "metadata": {},
   "outputs": [],
   "source": []
  }
 ],
 "metadata": {
  "kernelspec": {
   "display_name": "Python 3",
   "language": "python",
   "name": "python3"
  },
  "language_info": {
   "codemirror_mode": {
    "name": "ipython",
    "version": 3
   },
   "file_extension": ".py",
   "mimetype": "text/x-python",
   "name": "python",
   "nbconvert_exporter": "python",
   "pygments_lexer": "ipython3",
   "version": "3.8.5"
  }
 },
 "nbformat": 4,
 "nbformat_minor": 4
}

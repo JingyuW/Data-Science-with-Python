{
 "cells": [
  {
   "cell_type": "markdown",
   "metadata": {},
   "source": [
    "# Model Evaluation \n",
    "\n",
    "March 6, 2021"
   ]
  },
  {
   "cell_type": "markdown",
   "metadata": {},
   "source": [
    "## Learning Objective\n",
    "\n",
    "<div class=\"alert alert-block alert-info\" style=\"margin-top: 20px\">\n",
    "    \n",
    "1.  [Model Evaluation and Refinement](#0)<br>\n",
    "    \n",
    " \n",
    "2.  [Overfitting, Underfitting and Model Selection](#2) <br>\n",
    "    \n",
    "\n",
    "3.  [Ridge Regression](#4) <br>\n",
    "    \n",
    "    \n",
    "4.  [Grid Search](#6)<br>\n",
    "   \n",
    "    </div>"
   ]
  },
  {
   "cell_type": "markdown",
   "metadata": {},
   "source": [
    "### Model Evaluation and Refinement <a id=\"0\"></a>\n",
    "\n",
    "training data /test data\n",
    "\n",
    "``` train_test_split()```: for example, 90% of the data samples will be utilized for training, then the parameter \"random_state\" is set to zero. Then, input variable = 0.1.\n"
   ]
  },
  {
   "cell_type": "markdown",
   "metadata": {},
   "source": [
    "```cross_val_score()```"
   ]
  },
  {
   "cell_type": "markdown",
   "metadata": {},
   "source": [
    "### Overfitting, Underfitting and Model Selection <a id=\"2\"></a>\n",
    "\n",
    "underfitting: the model is too simple to fit the data\n",
    "\n",
    "overfitting: the model is too fixiable and fix the nosie rather than the function\n"
   ]
  },
  {
   "cell_type": "markdown",
   "metadata": {},
   "source": [
    "### Ridge Regression <a id=\"4\"></a>\n",
    "\n",
    "Motivation: sometime dataset have nosie, then underfitting\n",
    "\n",
    "ridge regression control the number of alpha to control polynomial\n",
    "\n",
    "```Ridge(alpha= xxx)```\n",
    "\n",
    "Alpha increase, the coeficient of higher order in ploynomial decrease.\n"
   ]
  },
  {
   "cell_type": "markdown",
   "metadata": {},
   "source": [
    "### Grid Search <a id = \"6\"></a>\n",
    "\n",
    "Scikit-lean has a means of automatically iterating over these hyperparameters using cross-validation called Grid Search.\n",
    "\n"
   ]
  },
  {
   "cell_type": "code",
   "execution_count": null,
   "metadata": {},
   "outputs": [],
   "source": []
  }
 ],
 "metadata": {
  "kernelspec": {
   "display_name": "Python 3",
   "language": "python",
   "name": "python3"
  },
  "language_info": {
   "codemirror_mode": {
    "name": "ipython",
    "version": 3
   },
   "file_extension": ".py",
   "mimetype": "text/x-python",
   "name": "python",
   "nbconvert_exporter": "python",
   "pygments_lexer": "ipython3",
   "version": "3.8.5"
  }
 },
 "nbformat": 4,
 "nbformat_minor": 4
}

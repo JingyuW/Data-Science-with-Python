{
 "cells": [
  {
   "cell_type": "markdown",
   "metadata": {},
   "source": [
    "# Data Wrangling\n",
    "---------------------------------------------------------\n",
    "\n",
    "02/05/2021\n",
    "\n",
    "## Pre-processing Data in Python\n",
    "\n",
    "We also call that **data cleaning** or **data wrangling**.This process of converting or mapping from the initial \"raw\" from into another format, in order to prepare the data for further analysis. \n",
    "\n",
    "1. identify and handle missing values\n",
    " \n",
    " - check with the data collection sourse\n",
    " - reomve the missing values: drop the values/ the data entry\n",
    " \n",
    "    ```dataframes.fropna()```: \n",
    "     - $axis = 0 $ drops the entire row and $axis =1$ drops the entire column\n",
    "     - inplace = true\n",
    "     - resuourse: http://pandas,pydata.org/\n",
    "   "
   ]
  },
  {
   "cell_type": "markdown",
   "metadata": {},
   "source": [
    " - replace the missing values: replace it with an average (of similar datapoints)/ frquency / based on other functions\n",
    " \n",
    " ```dataframe.replace(missing_value, new_value)```\n",
    " \n",
    " _FOR EXAMPLE_: ```mean = df[\"xxx\"].mean()\n",
    " df[\"xxx\"].replace(np.nan, mean)```\n",
    " \n",
    " \n",
    " - leave it as missing data"
   ]
  },
  {
   "cell_type": "markdown",
   "metadata": {},
   "source": [
    "### Data formatting in Python\n",
    "\n",
    "```df.rename(columns = {\"xxx\":\"yyy\"}, inplace = True)``` can be used.\n",
    "\n",
    "\n",
    "For incorrect data types:\n",
    "\n",
    "   - To _identidy_ data types: ```dataframe.dtypes()```\n",
    "   - To _convert_ data types: ```dataframe.astype()```\n",
    "   \n",
    "   _FOR EXAMPLE:_ ```df[\"price\"].astype(\"int\")``` convert data type tp integer in column \"price\"\n"
   ]
  },
  {
   "cell_type": "markdown",
   "metadata": {},
   "source": [
    "### Data Normalization\n",
    "\n",
    "Motivation: different ranges, hard to compare and fo further analysis\n",
    "\n",
    "Ways to normalizing data: \n",
    " \n",
    " - **simple feature scaling**: maximum value is $1$\n",
    " \n",
    "  $$x_{new} = \\frac{x_{old}}{x_{max}}$$\n",
    "  \n",
    " - **Min_Max**\n",
    " \n",
    " $$x_{new} = \\frac{x_{old} - x_{min}}{x_{max} -x_{min}}$$\n",
    " \n",
    " - **Z-score**\n",
    " \n",
    " $$x_{new} = \\frac{x_{old} - \\mu}{\\sigma}$$\n",
    " \n",
    " ```df[\"xxx\"] = (df[\"xxx\"] - df[\"xxx\"].mean())/df[\"xxx\"].std()```\n",
    " "
   ]
  },
  {
   "cell_type": "markdown",
   "metadata": {},
   "source": [
    "### Binning in Python\n",
    "\n",
    "Binning:\n",
    "\n",
    "- Binning: Grouping of values in \"bins\"\n",
    "- Converts numeric into categorical variables\n",
    "- group a set of numerical values into a set of \"bins\""
   ]
  },
  {
   "cell_type": "markdown",
   "metadata": {},
   "source": [
    "Binning in Python pandas\n",
    "\n",
    "```bins = np.linspace(min(df[\"xxx\"]), max(df[\"xxx\"]), 4)```"
   ]
  },
  {
   "cell_type": "markdown",
   "metadata": {},
   "source": [
    "```group_names = [\"low\",\"medium\",\"high\"]```"
   ]
  },
  {
   "cell_type": "markdown",
   "metadata": {},
   "source": [
    "```df[\"xxx-binned\"] = pd.cut(df[\"xxx\"], bins, labels =group_names, include_lowest = True)```"
   ]
  },
  {
   "cell_type": "markdown",
   "metadata": {},
   "source": [
    "### Turning categorical variables into quantitative variables in Python\n",
    "\n",
    "\n",
    "_One-hot encoding_\n",
    "\n",
    "\n",
    "```pd.get_dummies(df['column_name'])```: convert categorical variable to numerical $0$ or $1$"
   ]
  },
  {
   "cell_type": "code",
   "execution_count": 9,
   "metadata": {},
   "outputs": [
    {
     "ename": "NameError",
     "evalue": "name 'df' is not defined",
     "output_type": "error",
     "traceback": [
      "\u001b[1;31m---------------------------------------------------------------------------\u001b[0m",
      "\u001b[1;31mNameError\u001b[0m                                 Traceback (most recent call last)",
      "\u001b[1;32m<ipython-input-9-bb1b11567aa8>\u001b[0m in \u001b[0;36m<module>\u001b[1;34m\u001b[0m\n\u001b[1;32m----> 1\u001b[1;33m \u001b[0mx\u001b[0m\u001b[1;33m=\u001b[0m\u001b[0mdf\u001b[0m\u001b[1;33m[\u001b[0m\u001b[1;36m666\u001b[0m\u001b[1;33m,\u001b[0m\u001b[1;36m1.1\u001b[0m\u001b[1;33m,\u001b[0m\u001b[1;36m232\u001b[0m\u001b[1;33m,\u001b[0m\u001b[1;36m23.12\u001b[0m\u001b[1;33m]\u001b[0m\u001b[1;33m\u001b[0m\u001b[1;33m\u001b[0m\u001b[0m\n\u001b[0m",
      "\u001b[1;31mNameError\u001b[0m: name 'df' is not defined"
     ]
    }
   ],
   "source": [
    "x=df[666,1.1,232,23.12]"
   ]
  },
  {
   "cell_type": "code",
   "execution_count": 5,
   "metadata": {},
   "outputs": [
    {
     "data": {
      "text/plain": [
       "[666, 1.1, 232, 23.12]"
      ]
     },
     "execution_count": 5,
     "metadata": {},
     "output_type": "execute_result"
    }
   ],
   "source": [
    "x"
   ]
  },
  {
   "cell_type": "code",
   "execution_count": 6,
   "metadata": {},
   "outputs": [
    {
     "data": {
      "text/plain": [
       "list"
      ]
     },
     "execution_count": 6,
     "metadata": {},
     "output_type": "execute_result"
    }
   ],
   "source": [
    "type(x)"
   ]
  },
  {
   "cell_type": "code",
   "execution_count": 7,
   "metadata": {},
   "outputs": [],
   "source": [
    "import pandas as pd"
   ]
  },
  {
   "cell_type": "code",
   "execution_count": 8,
   "metadata": {},
   "outputs": [
    {
     "ename": "AttributeError",
     "evalue": "'list' object has no attribute 'dtype'",
     "output_type": "error",
     "traceback": [
      "\u001b[1;31m---------------------------------------------------------------------------\u001b[0m",
      "\u001b[1;31mAttributeError\u001b[0m                            Traceback (most recent call last)",
      "\u001b[1;32m<ipython-input-8-65d19f8d4881>\u001b[0m in \u001b[0;36m<module>\u001b[1;34m\u001b[0m\n\u001b[1;32m----> 1\u001b[1;33m \u001b[0mx\u001b[0m\u001b[1;33m.\u001b[0m\u001b[0mdtype\u001b[0m\u001b[1;33m(\u001b[0m\u001b[1;33m)\u001b[0m\u001b[1;33m\u001b[0m\u001b[1;33m\u001b[0m\u001b[0m\n\u001b[0m",
      "\u001b[1;31mAttributeError\u001b[0m: 'list' object has no attribute 'dtype'"
     ]
    }
   ],
   "source": [
    "x.dtype()"
   ]
  },
  {
   "cell_type": "code",
   "execution_count": null,
   "metadata": {},
   "outputs": [],
   "source": []
  }
 ],
 "metadata": {
  "kernelspec": {
   "display_name": "Python 3",
   "language": "python",
   "name": "python3"
  },
  "language_info": {
   "codemirror_mode": {
    "name": "ipython",
    "version": 3
   },
   "file_extension": ".py",
   "mimetype": "text/x-python",
   "name": "python",
   "nbconvert_exporter": "python",
   "pygments_lexer": "ipython3",
   "version": "3.8.5"
  }
 },
 "nbformat": 4,
 "nbformat_minor": 4
}
